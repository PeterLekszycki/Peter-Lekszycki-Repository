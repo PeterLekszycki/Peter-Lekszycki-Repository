{
 "cells": [
  {
   "cell_type": "code",
   "execution_count": 3,
   "id": "d9055511-8645-4662-be1b-294a728e1040",
   "metadata": {},
   "outputs": [],
   "source": [
    "import random"
   ]
  },
  {
   "cell_type": "code",
   "execution_count": 4,
   "id": "61877dbc-2a77-4846-af57-57ecda401023",
   "metadata": {},
   "outputs": [],
   "source": [
    "def generate_matrix(seed, lower_bound, higher_bound):\n",
    "    \"\"\"\n",
    "    Generate a matrix with random integer values within the specified bounds and enforce certain constraints.\n",
    "\n",
    "    Args:\n",
    "        seed (int): Seed value for random number generation to ensure reproducibility.\n",
    "        lower_bound (int): Lower bound for random integer generation.\n",
    "        higher_bound (int): Upper bound for random integer generation.\n",
    "\n",
    "    Returns:\n",
    "        list: A 10x10 matrix with random integer values between the specified bounds, where:\n",
    "              - The value at matrix[2][1] is adjusted if it exceeds a threshold\n",
    "              - Ensures there are more positive Geo earnings than negative ones\n",
    "    \"\"\"\n",
    "\n",
    "    random.seed(seed)\n",
    "\n",
    "    # generating values between the defined bounds\n",
    "    matrix = [[random.randint(lower_bound, higher_bound) for _ in range(10)] for _ in range(10)]\n",
    "\n",
    "    # we cannot go from one area to itself\n",
    "    matrix = [['-' if i == j else matrix[i][j] for j in range(len(matrix))] for i in range(len(matrix))]\n",
    "\n",
    "    # getting a list with the positive Geos\n",
    "    geo_gains = [geo for area in matrix for geo in area if geo != '-' and geo > 0]\n",
    "\n",
    "    # if the Geo from going G -> FC is 3.2% higher than the minimum positive Geo earning\n",
    "    if matrix[2][1] > min(geo_gains) * 0.968:\n",
    "\n",
    "        # we enforce it to be at least 3.2 % less than the minimum positive Geo gains.\n",
    "        matrix[2][1] = round((random.uniform(lower_bound, 1-0.032) ) * min(geo_gains), 2)\n",
    "        # if the new geo of going from G to FC happened to be lower than our lower bound, we winsorize it (make it equal to the lower bound)\n",
    "        matrix[2][1] = max(matrix[2][1], lower_bound)\n",
    "\n",
    "    # getting again a list with the positive Geos, with the updated values, and one with the negatives\n",
    "    geo_gains = [geo for area in matrix for geo in area if geo != '-' and geo > 0]\n",
    "    geo_losses = [geo for area in matrix for geo in area if geo != '-' and geo < 0]\n",
    "\n",
    "    # if we do not have more positive than negative Geo earnings\n",
    "    if len(geo_gains) <= len(geo_losses):\n",
    "\n",
    "        # we generate another matrix, with the bounds shifted one unit to the right (to increase the probability of getting more positives)\n",
    "        return generate_matrix(seed, lower_bound+1, higher_bound+1)\n",
    "\n",
    "    else:\n",
    "        return matrix"
   ]
  },
  {
   "cell_type": "code",
   "execution_count": 10,
   "id": "e09cd6bb-d6b1-4d43-aac5-054f5bb62c0f",
   "metadata": {},
   "outputs": [
    {
     "data": {
      "text/plain": [
       "[['-', -41, -37, -9, 30, 33, -10, -31, 90, 27],\n",
       " [2, '-', -43, -42, 59, -64, 60, -22, 45, -98],\n",
       " [-4, -88.62, '-', -98, 54, 26, -81, 81, -30, -57],\n",
       " [70, 67, 71, '-', -71, 21, 63, 20, -53, 62],\n",
       " [-52, -86, -26, 41, '-', -66, -21, 18, 78, 99],\n",
       " [95, 2, -50, -84, -92, '-', -3, 79, -99, -2],\n",
       " [-73, -33, 13, 18, 76, 65, '-', -69, -26, -65],\n",
       " [14, 57, -22, 92, -20, 84, -71, '-', -52, 38],\n",
       " [-13, 48, -92, 61, -74, -34, -35, -9, '-', 69],\n",
       " [6, 63, 70, 11, 6, 11, 84, 44, 39, '-']]"
      ]
     },
     "execution_count": 10,
     "metadata": {},
     "output_type": "execute_result"
    }
   ],
   "source": [
    "sample_matrix = generate_matrix(seed=random.random(), lower_bound=-100, higher_bound=100)\n",
    "sample_matrix"
   ]
  }
 ],
 "metadata": {
  "kernelspec": {
   "display_name": "Python 3 (ipykernel)",
   "language": "python",
   "name": "python3"
  },
  "language_info": {
   "codemirror_mode": {
    "name": "ipython",
    "version": 3
   },
   "file_extension": ".py",
   "mimetype": "text/x-python",
   "name": "python",
   "nbconvert_exporter": "python",
   "pygments_lexer": "ipython3",
   "version": "3.11.7"
  }
 },
 "nbformat": 4,
 "nbformat_minor": 5
}
