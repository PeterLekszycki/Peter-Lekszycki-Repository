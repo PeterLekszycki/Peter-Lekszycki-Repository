{
 "cells": [
  {
   "cell_type": "code",
   "execution_count": 11,
   "id": "1a40453e-831d-4065-872e-bd2bd4f3a9d6",
   "metadata": {},
   "outputs": [],
   "source": [
    "%run \"C:\\Users\\tomas\\Downloads\\OA_project_20221894\\base\\individual.ipynb\"\n",
    "%run \"C:\\Users\\tomas\\Downloads\\OA_project_20221894\\base\\dataset_generation.ipynb\""
   ]
  },
  {
   "cell_type": "code",
   "execution_count": 4,
   "id": "ee27217d-5065-4fd6-9543-992c90d7c035",
   "metadata": {},
   "outputs": [],
   "source": [
    "def create_population(ind_size=11):\n",
    "    \"\"\"\n",
    "    Create a population of individuals based on a matrix of Geo earnings and specified individual size.\n",
    "\n",
    "    Args:\n",
    "        ind_size (int): Size of the individual (default is 11, given our problem).\n",
    "\n",
    "    Returns:\n",
    "        function: A function that generates a population of individuals, ensuring they satisfy the specified constraints.\n",
    "    \"\"\"\n",
    "\n",
    "    def generate_pop(pop_size):\n",
    "        \"\"\"\n",
    "        Generate a population of individuals.\n",
    "\n",
    "        Args:\n",
    "            pop_size (int): Size of the population.\n",
    "\n",
    "        Returns:\n",
    "            list: A list of individuals, each represented as a sequence of areas.\n",
    "        \"\"\"\n",
    "\n",
    "        return [generate_solution(ind_size) for _ in range(pop_size)]\n",
    "\n",
    "    return generate_pop"
   ]
  },
  {
   "cell_type": "code",
   "execution_count": 9,
   "id": "54d2868d-3737-44d8-83ac-ecba0b0df228",
   "metadata": {},
   "outputs": [
    {
     "data": {
      "text/plain": [
       "[[0, 3, 6, 1, 5, 8, 9, 4, 2, 7, 0],\n",
       " [0, 4, 6, 8, 2, 3, 5, 7, 1, 9, 0],\n",
       " [0, 1, 8, 3, 5, 2, 7, 9, 4, 6, 0],\n",
       " [0, 3, 4, 9, 2, 6, 5, 8, 7, 1, 0],\n",
       " [0, 1, 6, 9, 4, 8, 2, 7, 5, 3, 0],\n",
       " [0, 1, 5, 8, 2, 6, 9, 4, 7, 3, 0],\n",
       " [0, 3, 5, 4, 9, 6, 8, 1, 2, 7, 0],\n",
       " [0, 3, 2, 6, 9, 4, 7, 5, 8, 1, 0],\n",
       " [0, 8, 3, 6, 2, 4, 7, 1, 5, 9, 0],\n",
       " [0, 1, 2, 6, 9, 8, 3, 7, 5, 4, 0]]"
      ]
     },
     "execution_count": 9,
     "metadata": {},
     "output_type": "execute_result"
    }
   ],
   "source": [
    "sample_pop = create_population()(10)\n",
    "sample_pop"
   ]
  },
  {
   "cell_type": "code",
   "execution_count": 6,
   "id": "65fe7ce2-22f5-49fe-aa76-bfdfe2ff76cd",
   "metadata": {},
   "outputs": [],
   "source": [
    "def evaluate_pop(matrix):\n",
    "    \"\"\"\n",
    "    Evaluate the fitness of each individual in a population based on a matrix of Geo earnings.\n",
    "\n",
    "    Args:\n",
    "        matrix (list): A matrix of Geo earnings.\n",
    "\n",
    "    Returns:\n",
    "        function: A function that evaluates the fitness of each individual in a population.\n",
    "    \"\"\"\n",
    "\n",
    "    def pop_evaluation(population):\n",
    "        \"\"\"\n",
    "        Evaluate the fitness of each individual in a population. We also check if we have advantages\n",
    "        skiping a location, giving certain conditions.\n",
    "\n",
    "        Args:\n",
    "            population (list): A list of individuals, each represented as a sequence of areas.\n",
    "\n",
    "        Returns:\n",
    "            list: A list of fitness values corresponding to each individual in the population.\n",
    "        \"\"\"\n",
    "        # Checking if we gain by skipping King's Station\n",
    "        for ind in population:\n",
    "\n",
    "            # If the individual visited KS,\n",
    "            if 6 in ind:\n",
    "\n",
    "                # And it was after DV, that was accessed directly from QS,\n",
    "                if ind.index(6) > ind.index(8) and ind.index(3) == (ind.index(8) - 1):\n",
    "\n",
    "                    # We compute the fitness gained by skipping and not skipping KS\n",
    "                    fit_skipping = matrix[ ind[ind.index(6) - 1] ][ ind[ ind.index(6) + 1 ] ]\n",
    "\n",
    "                    fit_no_skipping = int(matrix[ ind[ind.index(6) - 1] ][ 6 ]) + int(matrix[ 6 ][ ind[ind.index(6) + 1] ])\n",
    "\n",
    "                    # If we gain more Geos by skipping than not skipping, we skip it\n",
    "                    if fit_skipping > fit_no_skipping:\n",
    "                        ind[ind.index(6)] = '-'\n",
    "\n",
    "        return [get_fitness(matrix)(ind) for ind in population]\n",
    "\n",
    "    return pop_evaluation"
   ]
  },
  {
   "cell_type": "code",
   "execution_count": 10,
   "id": "000e84e1-c37e-4c48-b139-37a3b09ab6e9",
   "metadata": {},
   "outputs": [
    {
     "data": {
      "text/plain": [
       "[52, 37, 42, 32, 53, 52, 40, 54, 39, 48]"
      ]
     },
     "execution_count": 10,
     "metadata": {},
     "output_type": "execute_result"
    }
   ],
   "source": [
    "sample_fits = evaluate_pop(sample_pop)(sample_pop)\n",
    "sample_fits"
   ]
  }
 ],
 "metadata": {
  "kernelspec": {
   "display_name": "Python 3 (ipykernel)",
   "language": "python",
   "name": "python3"
  },
  "language_info": {
   "codemirror_mode": {
    "name": "ipython",
    "version": 3
   },
   "file_extension": ".py",
   "mimetype": "text/x-python",
   "name": "python",
   "nbconvert_exporter": "python",
   "pygments_lexer": "ipython3",
   "version": "3.11.7"
  }
 },
 "nbformat": 4,
 "nbformat_minor": 5
}
