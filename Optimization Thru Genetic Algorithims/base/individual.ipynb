{
 "cells": [
  {
   "cell_type": "markdown",
   "id": "96c34282-600b-4e39-bcb6-a4715c5685de",
   "metadata": {},
   "source": [
    "import numpy as np\n",
    "\n",
    "%run \"C:\\Users\\tomas\\Downloads\\OA_project_20221894\\base\\dataset_generation.ipynb\" "
   ]
  },
  {
   "cell_type": "code",
   "execution_count": 27,
   "id": "1248f920-4d10-4e7b-b8ac-eb87133328d3",
   "metadata": {},
   "outputs": [],
   "source": [
    "def check_constraints(ind):\n",
    "    \"\"\"\n",
    "    Check if the given individual satisfies the constraints of our problem.\n",
    "\n",
    "    Args:\n",
    "        ind (list): A list representing an individual solution, where each element represents a location.\n",
    "\n",
    "    Returns:\n",
    "        bool: True if all constraints are satisfied, False otherwise.\n",
    "    \"\"\"\n",
    "\n",
    "    size = len(ind)\n",
    "\n",
    "    # All sessions must begin and end at D (0)\n",
    "    if ind[0] != 0 or ind[-1] != 0:\n",
    "        return False\n",
    "\n",
    "    # If we skipped KS (6), we had to had gone directly from QS (3) to DV (8), and only skip after that sequence\n",
    "    elif '-' in ind and ( ind.index(3) != (ind.index(8) - 1) or ind.index('-') < ind.index(8) or 6 in ind):\n",
    "        return False\n",
    "\n",
    "    # We cannot go from QG (4) directly to CS (5)\n",
    "\n",
    "    elif ind.index(4) == ( ind.index(5) - 1 ):\n",
    "        return False\n",
    "\n",
    "    # The RG (7) have to be in the last half\n",
    "\n",
    "    elif ind.index(7) <= size // 2  :\n",
    "        return False\n",
    "\n",
    "    else:\n",
    "        return True"
   ]
  },
  {
   "cell_type": "code",
   "execution_count": 28,
   "id": "b095afd1-b266-412f-a3bd-f940e63d76d6",
   "metadata": {},
   "outputs": [],
   "source": [
    "def generate_solution(ind_size=11):\n",
    "    \"\"\"\n",
    "    Generates a random valid solution for our problem.\n",
    "\n",
    "    Args:\n",
    "        ind_size (int): The fixed size of each solution..\n",
    "\n",
    "    Returns:\n",
    "        list: A list representing a valid solution where each element represents a location.\n",
    "    \"\"\"\n",
    "\n",
    "    trips = list( range(1, ind_size-1) )  # Possible places to go\n",
    "    np.random.shuffle(trips)   # Shuffle the possible places to go, to get a random combination of them\n",
    "\n",
    "    # Enforcing in the initialization that every session will start and end in D (0)\n",
    "    sol =  [0] + trips + [0]\n",
    "\n",
    "    # While we don't get a solution that don't violate any constraint, we generate another from scratch\n",
    "    while not check_constraints(sol):\n",
    "        sol = generate_solution()\n",
    "\n",
    "    return sol"
   ]
  },
  {
   "cell_type": "code",
   "execution_count": 29,
   "id": "1afd8dcb-6d58-4b75-9a8e-67bd4a99e9e5",
   "metadata": {},
   "outputs": [
    {
     "data": {
      "text/plain": [
       "[0, 3, 2, 8, 4, 6, 9, 7, 5, 1, 0]"
      ]
     },
     "execution_count": 29,
     "metadata": {},
     "output_type": "execute_result"
    }
   ],
   "source": [
    "sample_sol = generate_solution()\n",
    "sample_sol"
   ]
  },
  {
   "cell_type": "code",
   "execution_count": 30,
   "id": "6773ff9f-b482-491b-b25c-d36a3dd1bcca",
   "metadata": {},
   "outputs": [],
   "source": [
    "def get_fitness(matrix):\n",
    "    \"\"\"\n",
    "    Calculate the fitness of a solution based on a matrix of Geo earnings.\n",
    "\n",
    "    Args:\n",
    "        matrix (list): A matrix of Geo earnings.\n",
    "\n",
    "    Returns:\n",
    "        function: A function that calculates the fitness of a solution, ensuring it satisfies the specified constraints.\n",
    "    \"\"\"\n",
    "\n",
    "    def get_fitness_inner(sol):\n",
    "        \"\"\"\n",
    "        Calculate the fitness of a solution based on a given individual.\n",
    "\n",
    "        Args:\n",
    "            sol (list): An individual solution representing a sequence of areas.\n",
    "\n",
    "        Returns:\n",
    "            int: The fitness value of the solution.\n",
    "        \"\"\"\n",
    "\n",
    "        if not check_constraints(sol):    # If the solution violates any of the constraints, it is assigned a very uncompetitive fitness\n",
    "            return -1\n",
    "\n",
    "        fitness = 0\n",
    "        # Iterating from the second to the last element\n",
    "        for i in range(1, len(sol)):\n",
    "            if sol[i] != '-':        # If the current area was not skipped\n",
    "\n",
    "                if sol[i-1] != '-':                         # And if the past area was not skipped\n",
    "                    geo = matrix[sol[i-1]][sol[i]]              # We sum the geo of the trip to our fitness\n",
    "                    if isinstance(geo, int):\n",
    "                        fitness += geo\n",
    "\n",
    "                else:                                       # And the past area was skipped\n",
    "                    geo = matrix[sol[i-2]][sol[i]]              # We sum the geo of the trip (from the area before the\n",
    "                                                                # skip to the area after it) to our fitness\n",
    "                    if isinstance(geo, int):\n",
    "                        fitness += geo\n",
    "            else:\n",
    "                continue              # If the current area was skipped, we skip this iteration since we don't have Geo to account for\n",
    "\n",
    "        return fitness\n",
    "\n",
    "    return get_fitness_inner"
   ]
  },
  {
   "cell_type": "code",
   "execution_count": 31,
   "id": "ebf644c9-4f22-41d5-8526-0e05c15d4e8c",
   "metadata": {},
   "outputs": [
    {
     "data": {
      "text/plain": [
       "153"
      ]
     },
     "execution_count": 31,
     "metadata": {},
     "output_type": "execute_result"
    }
   ],
   "source": [
    "get_fitness(sample_matrix)(sample_sol)"
   ]
  }
 ],
 "metadata": {
  "kernelspec": {
   "display_name": "Python 3 (ipykernel)",
   "language": "python",
   "name": "python3"
  },
  "language_info": {
   "codemirror_mode": {
    "name": "ipython",
    "version": 3
   },
   "file_extension": ".py",
   "mimetype": "text/x-python",
   "name": "python",
   "nbconvert_exporter": "python",
   "pygments_lexer": "ipython3",
   "version": "3.11.7"
  }
 },
 "nbformat": 4,
 "nbformat_minor": 5
}
