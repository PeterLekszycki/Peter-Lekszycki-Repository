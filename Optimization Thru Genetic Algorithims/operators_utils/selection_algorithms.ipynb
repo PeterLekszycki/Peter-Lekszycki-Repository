{
 "cells": [
  {
   "cell_type": "code",
   "execution_count": 7,
   "id": "b672e000-b25d-4e39-add2-d6acdb4fbace",
   "metadata": {},
   "outputs": [],
   "source": [
    "import numpy as np\n",
    "import random\n",
    "from scipy.stats import rankdata\n",
    "\n",
    "%run \"C:\\Users\\tomas\\Downloads\\OA_project_20221894\\base\\individual.ipynb\"\n",
    "%run \"C:\\Users\\tomas\\Downloads\\OA_project_20221894\\base\\population.ipynb\""
   ]
  },
  {
   "cell_type": "markdown",
   "id": "3a0b763f-2263-4e01-b4ba-40694a4b5d63",
   "metadata": {},
   "source": [
    "## Roulette Wheel:"
   ]
  },
  {
   "cell_type": "code",
   "execution_count": 4,
   "id": "7cb627ae-4092-4739-b850-187f58b1db95",
   "metadata": {},
   "outputs": [],
   "source": [
    "def roulette_wheel(population, fitnesses):\n",
    "    \"\"\"\n",
    "    Perform selection using the roulette wheel method.\n",
    "\n",
    "    Args:\n",
    "        population (list): A list of individuals.\n",
    "        fitnesses (list): A list of fitness values corresponding to each individual in the population.\n",
    "\n",
    "    Returns:\n",
    "        object: The selected individual from the population.\n",
    "    \"\"\"\n",
    "    roulette_wheel.abbv = 'rw'\n",
    "\n",
    "    # If we have geo losses in our fitnesses, we have to add a constant (the minimum fitness plus 1) to every element\n",
    "    # (to turn them into positives) so that the logic of probabilities can be applied\n",
    "    if min(fitnesses) < 0:\n",
    "        min_fitnesses = abs(min(fitnesses)) + 1\n",
    "        fitnesses = [fit + min_fitnesses for fit in fitnesses] # Adding the constant to every fitness\n",
    "\n",
    "    # Generating a random number between 0 and the total sum of all fitnesses, that will serve as a \"pointer\" in the roulette\n",
    "    pointer = np.random.uniform(0, sum(fitnesses))\n",
    "\n",
    "    # Now, we sum one by one each fitness. The first fitness whose addition will make the cumulative sum bigger than the pointer,\n",
    "    # will be selected since that means that the pointer is in his \"window\"\n",
    "    cumulative_fit = 0\n",
    "\n",
    "    for i, fit in enumerate(fitnesses):\n",
    "        cumulative_fit += fit\n",
    "\n",
    "        # If the cumulative sum is bigger or equal than the pointer, that means we arrived at \"window\" of the pointer\n",
    "        if pointer <= cumulative_fit:\n",
    "            return population[i] # Returning the selected individual, on whose window the pointer was"
   ]
  },
  {
   "cell_type": "markdown",
   "id": "413c9838-3a64-46e0-86d3-2ecb976210aa",
   "metadata": {},
   "source": [
    "## Ranking Selection:"
   ]
  },
  {
   "cell_type": "code",
   "execution_count": 6,
   "id": "6e85ab67-115e-41c1-8395-288671f98f73",
   "metadata": {},
   "outputs": [],
   "source": [
    "def ranking_selection(population, fitnesses):\n",
    "    \"\"\"\n",
    "    Perform selection using the ranking selection method.\n",
    "\n",
    "    Args:\n",
    "        population (list): A list of individuals.\n",
    "        fitnesses (list): A list of fitness values corresponding to each individual in the population.\n",
    "\n",
    "    Returns:\n",
    "        object: The selected individual from the population.\n",
    "    \"\"\"\n",
    "    ranking_selection.abbv = 'rs'\n",
    "\n",
    "    # Getting a a list that stores our fitnesses ranked\n",
    "    ranks = [int(val) for val in rankdata(fitnesses)]\n",
    "    total = sum(ranks)\n",
    "\n",
    "    # Generating a random number between 0 and the total sum of all ranks, that will serve as a \"pointer\" in the roulette\n",
    "    pointer = np.random.uniform(0, total)\n",
    "\n",
    "    # Now, we sum one by one each rank. The first rank whose addition will make the cumulative sum bigger than the pointer,\n",
    "    # will be selected since that means that the pointer is in his \"window\"\n",
    "    cumulative_pos = 0\n",
    "\n",
    "    for i, position in enumerate(ranks):\n",
    "        cumulative_pos += position\n",
    "\n",
    "        # If the cumulative sum is bigger or equal than the pointer, that means we arrived at \"window\" of the pointer\n",
    "        if pointer <= cumulative_pos:\n",
    "            return population[i]"
   ]
  },
  {
   "cell_type": "markdown",
   "id": "72c38e23-279d-4a4d-8681-b9a10b4bf2d6",
   "metadata": {},
   "source": [
    "## Tournament Selection"
   ]
  },
  {
   "cell_type": "code",
   "execution_count": null,
   "id": "c04d96da-6bcf-41b5-b79c-619a71449ede",
   "metadata": {},
   "outputs": [],
   "source": [
    "def tournament_selection(ts):\n",
    "    \"\"\"\n",
    "    Perform selection using the tournament selection method with a given tournament size.\n",
    "\n",
    "    Args:\n",
    "        ts (int): The size of the tournament.\n",
    "\n",
    "    Returns:\n",
    "        function: A function that performs tournament selection on a population.\n",
    "    \"\"\"\n",
    "\n",
    "    def tournament_sec(population, fitnesses):\n",
    "        \"\"\"\n",
    "        Perform tournament selection on a population.\n",
    "\n",
    "        Args:\n",
    "            population (list): A list of individuals.\n",
    "            fitnesses (list): A list of fitness values corresponding to each individual in the population.\n",
    "\n",
    "        Returns:\n",
    "            object: The selected individual from the population.\n",
    "        \"\"\"\n",
    "        tournament_sec.ts_value = ts  # Set ts as an attribute to later access on the parameter search\n",
    "        tournament_sec.abbv = 'ts'\n",
    "\n",
    "        # Selecting ts random indexes from the population\n",
    "        pool = random.choices([i for i in range(len(population))], k=ts)\n",
    "\n",
    "        # Getting the fitnesses of the selected indexes\n",
    "        pool_fits = [fitnesses[i] for i in pool]\n",
    "\n",
    "        # Getting the fittest selected individual\n",
    "        best = np.argmax(pool_fits)\n",
    "\n",
    "        return population[pool[best]]\n",
    "\n",
    "    return tournament_sec"
   ]
  }
 ],
 "metadata": {
  "kernelspec": {
   "display_name": "Python 3 (ipykernel)",
   "language": "python",
   "name": "python3"
  },
  "language_info": {
   "codemirror_mode": {
    "name": "ipython",
    "version": 3
   },
   "file_extension": ".py",
   "mimetype": "text/x-python",
   "name": "python",
   "nbconvert_exporter": "python",
   "pygments_lexer": "ipython3",
   "version": "3.11.7"
  }
 },
 "nbformat": 4,
 "nbformat_minor": 5
}
