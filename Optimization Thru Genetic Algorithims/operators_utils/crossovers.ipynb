{
 "cells": [
  {
   "cell_type": "code",
   "execution_count": 4,
   "id": "d5d18b37-f533-4a78-9332-f6ef770f8b7b",
   "metadata": {},
   "outputs": [],
   "source": [
    "import numpy as np\n",
    "import random"
   ]
  },
  {
   "cell_type": "code",
   "execution_count": 2,
   "id": "e826a6d5-14ef-421b-b36c-7c2842bb2e46",
   "metadata": {},
   "outputs": [],
   "source": [
    "def check_xover(p1, p2):\n",
    "    \"\"\"\n",
    "    Check and replace any occurrence of skipped locations in both parents.\n",
    "\n",
    "    This function checks if the parents skipped a location, and replaces it with\n",
    "    a 6 (the only location allowed to skip, in our problem) if found.\n",
    "\n",
    "    Args:\n",
    "        p1 (list): The first parent.\n",
    "        p2 (list): The second parent.\n",
    "\n",
    "    Returns:\n",
    "        tuple: A tuple containing the modified versions of both parents.\n",
    "    \"\"\"\n",
    "\n",
    "    p1 = [6 if gene == '-' else gene for gene in p1]\n",
    "    p2 = [6 if gene == '-' else gene for gene in p2]\n",
    "\n",
    "    return p1, p2"
   ]
  },
  {
   "cell_type": "markdown",
   "id": "86875fb6-c926-4dc5-9eeb-4c8d786365d3",
   "metadata": {},
   "source": [
    "## Cyclic Crossover"
   ]
  },
  {
   "cell_type": "code",
   "execution_count": 6,
   "id": "dc32d6f6-9782-4847-ac4f-2f83872b6d5f",
   "metadata": {},
   "outputs": [],
   "source": [
    "def cyclic_xover(p1, p2):\n",
    "    \"\"\"\n",
    "    Perform cyclic crossover between two parents to produce offspring.\n",
    "\n",
    "    Args:\n",
    "        p1 (list): The first parent.\n",
    "        p2 (list): The second parent.\n",
    "\n",
    "    Returns:\n",
    "        tuple: A tuple containing two offspring resulting from the cyclic crossover operation.\n",
    "    \"\"\"\n",
    "    cyclic_xover.abbv = 'cx'\n",
    "\n",
    "    # correcting if there are skips in only one parent\n",
    "    p1, p2 = check_xover(p1, p2)\n",
    "\n",
    "    size = len(p1)\n",
    "    o1 = [0] + [-1] * (size-2) + [0]\n",
    "    o2 = [0] + [-1] * (size-2) + [0]\n",
    "\n",
    "    # Choosing the first position, whose value will be saved in start_idx\n",
    "    start_idx = idx = np.random.randint(1, size-1)\n",
    "    while True:\n",
    "        # Assigning the values of the parents to their respective offsprings on that position\n",
    "        o1[idx] = p1[idx]\n",
    "        o2[idx] = p2[idx]\n",
    "\n",
    "        # The next index will be the position on parent1 of the previous value of parent 2\n",
    "        idx = p1.index(p2[idx])\n",
    "\n",
    "        # If the new position is equal to the starting index, the cycle is closed,\n",
    "        # and we break the loop\n",
    "\n",
    "        if idx == start_idx:\n",
    "            break\n",
    "\n",
    "    # Filling the rest of the offsprings with their unlinked parents\n",
    "    for i in range(size):\n",
    "        if o1[i] == -1:\n",
    "            o1[i] = p2[i]\n",
    "        if o2[i] == -1:\n",
    "            o2[i] = p1[i]\n",
    "\n",
    "    return o1, o2"
   ]
  },
  {
   "cell_type": "code",
   "execution_count": 8,
   "id": "832ad6e4-8a89-439b-a4a2-0cc85a58579c",
   "metadata": {},
   "outputs": [
    {
     "data": {
      "text/plain": [
       "([0, 1, 8, 9, 5, 2, 4, 3, 6, 7, 0], [0, 7, 6, 3, 4, 2, 5, 9, 8, 1, 0])"
      ]
     },
     "execution_count": 8,
     "metadata": {},
     "output_type": "execute_result"
    }
   ],
   "source": [
    "cyclic_xover([0, 7, 6, 3, 4, 2, 5, 9, 8, 1, 0], [0, 7, 6, 3, 4, 2, 5, 9, 8, 1, 0][::-1])"
   ]
  },
  {
   "cell_type": "markdown",
   "id": "5c20ade1-23bf-4fb1-b388-ebf750d9491c",
   "metadata": {},
   "source": [
    "## PMX Crossover"
   ]
  },
  {
   "cell_type": "code",
   "execution_count": 7,
   "id": "56c78964-9f34-42aa-ae45-729e44375db5",
   "metadata": {},
   "outputs": [],
   "source": [
    "def pmx_xover(p1, p2):\n",
    "    \"\"\"\n",
    "    Perform partially matched crossover (PMX) between two parents to produce offspring.\n",
    "\n",
    "    Args:\n",
    "        p1 (list): The first parent.\n",
    "        p2 (list): The second parent.\n",
    "\n",
    "    Returns:\n",
    "        tuple: A tuple containing two offspring resulting from the PMX crossover operation.\n",
    "    \"\"\"\n",
    "    pmx_xover.abbv = 'pmx'\n",
    "\n",
    "    # correcting if there are skips in only one parent\n",
    "    p1, p2 = check_xover(p1, p2)\n",
    "\n",
    "    size = len(p1)\n",
    "    # Selecting two crossover points\n",
    "    xp1, xp2 = sorted(random.sample(range(1, size-1), 2))\n",
    "\n",
    "    o1 = [0] + [-1] * (size - 2) + [0]\n",
    "    o2 = [0] + [-1] * (size - 2) + [0]\n",
    "\n",
    "    # Copying the crossover subset from the parents to their unlinked offsprings\n",
    "    o1[xp1:xp2+1] = p2[xp1:xp2+1]\n",
    "    o2[xp1:xp2+1] = p1[xp1:xp2+1]\n",
    "\n",
    "    # Iterating over the copied range\n",
    "    for i in range(xp1, xp2+1):\n",
    "        # if the current parent gene is not on its offspring\n",
    "        if p1[i] not in o1:\n",
    "            # we store the position of the current gene of parent 2 on parent1\n",
    "            idx = p1.index(p2[i])\n",
    "            # if that position is not empty in the offspring\n",
    "            while o1[idx] != -1:\n",
    "                # we go to other position\n",
    "                idx = p1.index(p2[idx])\n",
    "            # fill the offspring on that position with the first position of parent 1\n",
    "            o1[idx] = p1[i]\n",
    "\n",
    "    # Doing it the same to offspring 2\n",
    "        if p2[i] not in o2:\n",
    "            idx = p2.index(p1[i])\n",
    "            while o2[idx] != -1:\n",
    "                idx = p2.index(p1[idx])\n",
    "            o2[idx] = p2[i]\n",
    "\n",
    "    # Filling the remaining spots with the genes from their parents\n",
    "    for i in range(size):\n",
    "        if o1[i] == -1:\n",
    "            o1[i] = p1[i]\n",
    "        if o2[i] == -1:\n",
    "            o2[i] = p2[i]\n",
    "\n",
    "    return o1, o2"
   ]
  },
  {
   "cell_type": "code",
   "execution_count": 9,
   "id": "a8f99497-aff2-4482-9890-2c4b08d2cd7e",
   "metadata": {},
   "outputs": [
    {
     "data": {
      "text/plain": [
       "([0, 7, 8, 9, 4, 2, 5, 3, 6, 1, 0], [0, 1, 6, 3, 5, 2, 4, 9, 8, 7, 0])"
      ]
     },
     "execution_count": 9,
     "metadata": {},
     "output_type": "execute_result"
    }
   ],
   "source": [
    "pmx_xover([0, 7, 6, 3, 4, 2, 5, 9, 8, 1, 0], [0, 7, 6, 3, 4, 2, 5, 9, 8, 1, 0][::-1])"
   ]
  },
  {
   "cell_type": "markdown",
   "id": "7bbdf61d-5462-42a4-aed2-af4585f74583",
   "metadata": {},
   "source": [
    "## Ordered Crossover"
   ]
  },
  {
   "cell_type": "code",
   "execution_count": 11,
   "id": "eba38f16-d6d7-4f34-a18c-f3e539119835",
   "metadata": {},
   "outputs": [],
   "source": [
    "def ordered_xover(p1, p2):\n",
    "    \"\"\"\n",
    "    Perform ordered crossover (OX) between two parents to produce offspring.\n",
    "\n",
    "    Args:\n",
    "        p1 (list): The first parent.\n",
    "        p2 (list): The second parent.\n",
    "\n",
    "    Returns:\n",
    "        tuple: A tuple containing two offspring resulting from the ordered crossover operation.\n",
    "    \"\"\"\n",
    "    ordered_xover.abbv = 'ox'\n",
    "\n",
    "    # correcting if there are skips in only one parent\n",
    "    p1, p2 = check_xover(p1, p2)\n",
    "\n",
    "    size = len(p1)\n",
    "\n",
    "    # Selecting two crossover points\n",
    "    xp1, xp2 = sorted(random.sample(range(1, size-1), 2))\n",
    "\n",
    "    o1 = [0] + [-1]*(size-2) + [0]\n",
    "    o2 = [0] + [-1]*(size-2) + [0]\n",
    "\n",
    "    # Copying the crossover subset from the parents to their unlinked offsprings\n",
    "    o1[xp1:xp2+1] = p2[xp1:xp2+1]\n",
    "    o2[xp1:xp2+1] = p1[xp1:xp2+1]\n",
    "\n",
    "    # Getting a list with the unpasted areas of each parent to their offsprings\n",
    "    p1_remaining = [gene for gene in p1[1:-1] if gene not in o1]\n",
    "    p2_remaining = [gene for gene in p2[1:-1] if gene not in o2]\n",
    "\n",
    "    # We start filling the offspring from the last xover point\n",
    "    i = xp2+1\n",
    "    # While there are still areas to fill\n",
    "    while len(p1_remaining) != 0 and len(p2_remaining) != 0:\n",
    "\n",
    "        # If we reach the end of our list (individual)\n",
    "        if i == 11:\n",
    "          # We go back to the beggining\n",
    "            i = i % 11\n",
    "\n",
    "        # If the current position of the offspring is unfilled\n",
    "        if o1[i] == -1:\n",
    "          # We fill with the first gene of the remaining from their parents (to preserve the order)\n",
    "            o1[i] = p1_remaining[0]\n",
    "            # And remove it from the positions remaining\n",
    "            p1_remaining.remove(o1[i])\n",
    "\n",
    "        # The same for the other offspring\n",
    "        if o2[i] == -1:\n",
    "            o2[i] = p2_remaining[0]\n",
    "            p2_remaining.remove(o2[i])\n",
    "\n",
    "        i += 1\n",
    "\n",
    "    return o1, o2"
   ]
  },
  {
   "cell_type": "code",
   "execution_count": 12,
   "id": "b602ec64-b631-422b-acae-0e3491cb58db",
   "metadata": {},
   "outputs": [
    {
     "data": {
      "text/plain": [
       "([0, 1, 8, 9, 5, 7, 6, 3, 4, 2, 0], [0, 7, 6, 3, 4, 1, 8, 9, 5, 2, 0])"
      ]
     },
     "execution_count": 12,
     "metadata": {},
     "output_type": "execute_result"
    }
   ],
   "source": [
    "ordered_xover([0, 7, 6, 3, 4, 2, 5, 9, 8, 1, 0], [0, 7, 6, 3, 4, 2, 5, 9, 8, 1, 0][::-1])"
   ]
  },
  {
   "cell_type": "markdown",
   "id": "ffe2bcc2-e098-4ace-8fe9-68ce2a1dc5d3",
   "metadata": {},
   "source": [
    "## Two-Point Crossover"
   ]
  },
  {
   "cell_type": "code",
   "execution_count": 13,
   "id": "16b9df15-102f-454e-96a5-3dd68f6d6587",
   "metadata": {},
   "outputs": [],
   "source": [
    "def two_point_xover(p1, p2):\n",
    "    \"\"\"\n",
    "    Perform two-point crossover between two parents to produce offspring.\n",
    "\n",
    "    Args:\n",
    "        p1 (list): The first parent.\n",
    "        p2 (list): The second parent.\n",
    "\n",
    "    Returns:\n",
    "        tuple: A tuple containing two offspring resulting from the two-point crossover operation.\n",
    "    \"\"\"\n",
    "    two_point_xover.abbv = 'tpx'\n",
    "\n",
    "    # correcting if there are skips in only one parent\n",
    "    p1, p2 = check_xover(p1, p2)\n",
    "\n",
    "    # Choosing crossover points\n",
    "    start, end = sorted(random.sample(range(1, len(p1)-1), 2))\n",
    "\n",
    "    # Each offspring will have a subset of their unlinked parent\n",
    "    o1 = p1[1:start] + p2[start:end] + p1[end:-1]\n",
    "    o2 = p2[1:start] + p1[start:end] + p2[end:-1]\n",
    "\n",
    "\n",
    "    # Storing the duplicates\n",
    "    duplicated1 = list(set([value for value in o1 if o1.count(value) > 1]))\n",
    "    duplicated2 = list(set([value for value in o2 if o2.count(value) > 1]))\n",
    "\n",
    "    # Shuffling the order of the lists to guarantee randomness when exchanging the bits between the 2 offsprings\n",
    "    random.shuffle(duplicated1)\n",
    "    random.shuffle(duplicated2)\n",
    "\n",
    "    # Swapping the duplicate values\n",
    "    for val1, val2 in zip(duplicated1,duplicated2):\n",
    "        o1[o1.index(val1)] = o2[o2.index(val2)]\n",
    "        o2[o2.index(val2)] = o1[o1.index(val1)]\n",
    "\n",
    "    return [0] + o1 + [0] , [0] + o2 + [0]"
   ]
  },
  {
   "cell_type": "code",
   "execution_count": 14,
   "id": "32e769b6-d851-45e6-aa94-6d1ea706c84e",
   "metadata": {},
   "outputs": [
    {
     "data": {
      "text/plain": [
       "([0, 7, 4, 3, 6, 2, 5, 9, 8, 1, 0], [0, 1, 5, 9, 8, 2, 4, 3, 6, 7, 0])"
      ]
     },
     "execution_count": 14,
     "metadata": {},
     "output_type": "execute_result"
    }
   ],
   "source": [
    "two_point_xover([0, 7, 6, 3, 4, 2, 5, 9, 8, 1, 0], [0, 7, 6, 3, 4, 2, 5, 9, 8, 1, 0][::-1])"
   ]
  },
  {
   "cell_type": "code",
   "execution_count": null,
   "id": "7ae1aaa5-3d76-4d9d-b600-c9bd87f236dd",
   "metadata": {},
   "outputs": [],
   "source": []
  },
  {
   "cell_type": "code",
   "execution_count": null,
   "id": "c228186d-a332-41fb-8d7c-2068b45a6873",
   "metadata": {},
   "outputs": [],
   "source": []
  },
  {
   "cell_type": "code",
   "execution_count": null,
   "id": "646520fb-6f21-4a4c-aced-e8c4aba7846d",
   "metadata": {},
   "outputs": [],
   "source": []
  },
  {
   "cell_type": "code",
   "execution_count": null,
   "id": "884ee63b-319e-4ba2-a1bc-e9516af78a30",
   "metadata": {},
   "outputs": [],
   "source": []
  }
 ],
 "metadata": {
  "kernelspec": {
   "display_name": "Python 3 (ipykernel)",
   "language": "python",
   "name": "python3"
  },
  "language_info": {
   "codemirror_mode": {
    "name": "ipython",
    "version": 3
   },
   "file_extension": ".py",
   "mimetype": "text/x-python",
   "name": "python",
   "nbconvert_exporter": "python",
   "pygments_lexer": "ipython3",
   "version": "3.11.7"
  }
 },
 "nbformat": 4,
 "nbformat_minor": 5
}
