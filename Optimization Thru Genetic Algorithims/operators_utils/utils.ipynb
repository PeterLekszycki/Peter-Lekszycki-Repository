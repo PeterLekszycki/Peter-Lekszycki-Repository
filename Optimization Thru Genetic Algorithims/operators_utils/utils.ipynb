{
 "cells": [
  {
   "cell_type": "code",
   "execution_count": 3,
   "id": "590a23bd-fd6f-49ab-b612-883bc9f08168",
   "metadata": {},
   "outputs": [],
   "source": [
    "import numpy as np\n",
    "\n",
    "%run \"C:\\Users\\tomas\\Downloads\\OA_project_20221894\\base\\dataset_generation.ipynb\" \n",
    "%run \"C:\\Users\\tomas\\Downloads\\OA_project_20221894\\base\\individual.ipynb\"\n",
    "%run \"C:\\Users\\tomas\\Downloads\\OA_project_20221894\\base\\population.ipynb\""
   ]
  },
  {
   "cell_type": "markdown",
   "id": "8a6dc792-309a-45d1-a70f-4592827eae44",
   "metadata": {},
   "source": [
    "## Elitism"
   ]
  },
  {
   "cell_type": "code",
   "execution_count": 4,
   "id": "0a0e73a6-864c-4efa-8da6-d8e7db49e0cf",
   "metadata": {},
   "outputs": [],
   "source": [
    "def get_n_elites(n):\n",
    "    \"\"\"\n",
    "    Create a function to retrieve the top `n` elites from a population based on their fitness.\n",
    "\n",
    "    Args:\n",
    "        n (int): Number of elites to select.\n",
    "\n",
    "    Returns:\n",
    "        function: A function that retrieves the top `n` elites from a population and their corresponding fitness values.\n",
    "    \"\"\"\n",
    "\n",
    "    def get_elite(population, pop_fit):\n",
    "        \"\"\"\n",
    "        Retrieve the top 'n' elites from a population based on their fitness.\n",
    "\n",
    "        Args:\n",
    "            population (list): List of individuals in the population.\n",
    "            pop_fit (list): List of fitness values corresponding to the individuals in the population.\n",
    "\n",
    "        Returns:\n",
    "            tuple: A tuple containing two lists:\n",
    "                - List of top 'n' elite individuals.\n",
    "                - List of fitness values corresponding to the top 'n' elite individuals.\n",
    "        \"\"\"\n",
    "\n",
    "        # Getting the indexes of our n best elements, to return them\n",
    "        elites_i = np.argsort(pop_fit)[-n:]\n",
    "\n",
    "        return [population[i] for i in elites_i], [pop_fit[i] for i in elites_i]\n",
    "\n",
    "    return get_elite"
   ]
  },
  {
   "cell_type": "code",
   "execution_count": 6,
   "id": "39ddae5b-bca6-4265-a0cf-2149dce5ade8",
   "metadata": {},
   "outputs": [
    {
     "data": {
      "text/plain": [
       "([[0, 3, 2, 8, 5, 1, 7, 6, 4, 9, 0],\n",
       "  [0, 5, 1, 6, 4, 9, 8, 2, 3, 7, 0],\n",
       "  [0, 5, 8, 9, 1, 4, 2, 6, 7, 3, 0]],\n",
       " [50, 51, 57])"
      ]
     },
     "execution_count": 6,
     "metadata": {},
     "output_type": "execute_result"
    }
   ],
   "source": [
    "get_n_elites(3)(sample_pop, sample_fits)"
   ]
  },
  {
   "cell_type": "code",
   "execution_count": null,
   "id": "f4ccd615-478c-4bf9-961b-71ccafd7a965",
   "metadata": {},
   "outputs": [],
   "source": []
  }
 ],
 "metadata": {
  "kernelspec": {
   "display_name": "Python 3 (ipykernel)",
   "language": "python",
   "name": "python3"
  },
  "language_info": {
   "codemirror_mode": {
    "name": "ipython",
    "version": 3
   },
   "file_extension": ".py",
   "mimetype": "text/x-python",
   "name": "python",
   "nbconvert_exporter": "python",
   "pygments_lexer": "ipython3",
   "version": "3.11.7"
  }
 },
 "nbformat": 4,
 "nbformat_minor": 5
}
