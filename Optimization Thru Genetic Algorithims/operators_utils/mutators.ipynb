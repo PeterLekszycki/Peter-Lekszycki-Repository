{
 "cells": [
  {
   "cell_type": "code",
   "execution_count": 4,
   "id": "6bd90d6a-8467-48cb-b3e7-c8688c6a423c",
   "metadata": {},
   "outputs": [],
   "source": [
    "import random"
   ]
  },
  {
   "cell_type": "markdown",
   "id": "44e8a51b-d98b-46aa-8a93-f4fd5c250a34",
   "metadata": {},
   "source": [
    "## Swap Mutation"
   ]
  },
  {
   "cell_type": "code",
   "execution_count": 1,
   "id": "c249e3b2-74ae-4c6f-b56c-327de946d126",
   "metadata": {},
   "outputs": [],
   "source": [
    "def swap_mutation(ind, p_m):\n",
    "    \"\"\"\n",
    "    Perform swap mutation on an individual with a given mutation probability.\n",
    "\n",
    "    Args:\n",
    "        ind (list): The individual to undergo mutation.\n",
    "        p_m (float): The probability of mutation for each gene in the individual.\n",
    "\n",
    "    Returns:\n",
    "        list: The mutated individual.\n",
    "    \"\"\"\n",
    "    swap_mutation.abbv = 'sm'\n",
    "\n",
    "    size = len(ind)\n",
    "    off = ind.copy()\n",
    "\n",
    "    for i in range(1, size-3):\n",
    "        if random.random() < p_m:\n",
    "            j = random.randint(i+1, size-2)\n",
    "            # Swapping the elements on them\n",
    "            off[i], off[j] = off[j], off[i]\n",
    "\n",
    "    return off"
   ]
  },
  {
   "cell_type": "code",
   "execution_count": 5,
   "id": "a6558788-4287-415f-a9f3-a9bb8de4bbff",
   "metadata": {},
   "outputs": [
    {
     "data": {
      "text/plain": [
       "[0, 7, 8, 3, 2, 5, 4, 9, 6, 1, 0]"
      ]
     },
     "execution_count": 5,
     "metadata": {},
     "output_type": "execute_result"
    }
   ],
   "source": [
    "swap_mutation([0, 7, 6, 3, 4, 2, 5, 9, 8, 1, 0], 0.5)"
   ]
  },
  {
   "cell_type": "markdown",
   "id": "8b6d9aaa-1aa2-4233-a235-72af50b8d19d",
   "metadata": {},
   "source": [
    "## Inversion Mutation"
   ]
  },
  {
   "cell_type": "code",
   "execution_count": 6,
   "id": "6b0b63cb-101d-40c0-90ad-94cddaac6649",
   "metadata": {},
   "outputs": [],
   "source": [
    "def inversion_mutation(ind, p_m):\n",
    "    \"\"\"\n",
    "    Perform inversion mutation on an individual with a given mutation probability.\n",
    "\n",
    "    Args:\n",
    "        ind (list): The individual to undergo mutation.\n",
    "        p_m (float): The probability of mutation for each gene in the individual.\n",
    "\n",
    "    Returns:\n",
    "        list: The mutated individual.\n",
    "    \"\"\"\n",
    "    inversion_mutation.abbv = 'im'\n",
    "\n",
    "    size = len(ind)\n",
    "    off = ind.copy()\n",
    "\n",
    "    for i in range(1, size-3):\n",
    "        if random.random() < p_m:\n",
    "            # Selecting\n",
    "            j = random.randint(i+1, size-2)\n",
    "            #print(i, j)\n",
    "            # Inverting the subset selected\n",
    "            off = off[:i] + off[i:j+1][::-1] + off[j+1:]\n",
    "\n",
    "    return off"
   ]
  },
  {
   "cell_type": "code",
   "execution_count": 7,
   "id": "b0bc1e17-fddd-4f9b-a983-d420bc9cf5ef",
   "metadata": {},
   "outputs": [
    {
     "data": {
      "text/plain": [
       "[0, 5, 2, 6, 3, 9, 7, 4, 8, 1, 0]"
      ]
     },
     "execution_count": 7,
     "metadata": {},
     "output_type": "execute_result"
    }
   ],
   "source": [
    "inversion_mutation([0, 7, 6, 3, 4, 2, 5, 9, 8, 1, 0], 0.5)"
   ]
  },
  {
   "cell_type": "markdown",
   "id": "a08ed812-52ef-4b08-ab22-f3f7ec6217a8",
   "metadata": {},
   "source": [
    "## Mix Mutation"
   ]
  },
  {
   "cell_type": "code",
   "execution_count": 8,
   "id": "e30614f3-57d8-4d5c-9937-936abed42228",
   "metadata": {},
   "outputs": [],
   "source": [
    "def mix_mutation(ind, p_m):\n",
    "    \"\"\"\n",
    "    Perform mix mutation on an individual with a given mutation probability.\n",
    "\n",
    "    Args:\n",
    "        ind (list): The individual to undergo mutation.\n",
    "        p_m (float): The probability of mutation for each gene in the individual.\n",
    "\n",
    "    Returns:\n",
    "        list: The mutated individual.\n",
    "    \"\"\"\n",
    "    mix_mutation.abbv = 'mm'\n",
    "\n",
    "    size = len(ind)\n",
    "    off = ind.copy()\n",
    "\n",
    "    for i in range(1, size-2):\n",
    "        if random.random() < p_m:\n",
    "            # Selecting\n",
    "            j = random.randint(i+1, size-1)\n",
    "            #print(i, j)\n",
    "            # Selecting the subset between the chosen positions\n",
    "            subset = off[i:j]\n",
    "            random.shuffle(subset)\n",
    "            off = off[:i] + subset + off[j:]\n",
    "\n",
    "\n",
    "    return off"
   ]
  },
  {
   "cell_type": "code",
   "execution_count": 9,
   "id": "cf78a7ff-9102-4419-ab29-e348f400bf02",
   "metadata": {},
   "outputs": [
    {
     "data": {
      "text/plain": [
       "[0, 7, 6, 3, 4, 1, 8, 5, 2, 9, 0]"
      ]
     },
     "execution_count": 9,
     "metadata": {},
     "output_type": "execute_result"
    }
   ],
   "source": [
    "mix_mutation([0, 7, 6, 3, 4, 2, 5, 9, 8, 1, 0], 0.5)"
   ]
  },
  {
   "cell_type": "markdown",
   "id": "fd1f507c-471e-4d66-b4ae-bd713c5ca594",
   "metadata": {},
   "source": [
    "## Displacement Mutation"
   ]
  },
  {
   "cell_type": "code",
   "execution_count": 10,
   "id": "460b6921-0418-4ea6-b1f5-5f1beb671444",
   "metadata": {},
   "outputs": [],
   "source": [
    "def disp_mutation(ind, p_m):\n",
    "    \"\"\"\n",
    "    Perform displacement mutation on an individual with a given mutation probability.\n",
    "\n",
    "    Args:\n",
    "        ind (list): The individual to undergo mutation.\n",
    "        p_m (float): The probability of mutation for each gene in the individual.\n",
    "\n",
    "    Returns:\n",
    "        list: The mutated individual.\n",
    "    \"\"\"\n",
    "    disp_mutation.abbv = 'dm'\n",
    "\n",
    "    size = len(ind)\n",
    "    off = ind.copy()\n",
    "\n",
    "    for i in range(1, size-2):\n",
    "        if random.random() < p_m:\n",
    "            j = random.randint(i+1, size-1)\n",
    "            #print(i, j)\n",
    "            # Selecting the subset between the chosen positions\n",
    "            subset = off[i:j]\n",
    "            # Updating the offspring to only get the elements that are not on the subset\n",
    "            off = [gene for gene in off if gene not in subset]\n",
    "            # Choosing a random index\n",
    "            index = random.randint(-len(off) + 1, -(len(off)-1))\n",
    "            #print(index)\n",
    "            # Inserting the subset on our offspring on the index we got\n",
    "            off[index:index] = subset\n",
    "\n",
    "    return off"
   ]
  },
  {
   "cell_type": "code",
   "execution_count": 11,
   "id": "390f83e4-3a3e-45d9-b64c-b3da547277d8",
   "metadata": {},
   "outputs": [
    {
     "data": {
      "text/plain": [
       "[0, 5, 1, 9, 8, 4, 7, 6, 3, 2, 0]"
      ]
     },
     "execution_count": 11,
     "metadata": {},
     "output_type": "execute_result"
    }
   ],
   "source": [
    "disp_mutation([0, 7, 6, 3, 4, 2, 5, 9, 8, 1, 0], 0.5)"
   ]
  },
  {
   "cell_type": "markdown",
   "id": "ae17a797-9e8c-422c-bf6d-e9c16fb3d79d",
   "metadata": {},
   "source": [
    "## Two-Point Mutation"
   ]
  },
  {
   "cell_type": "code",
   "execution_count": 13,
   "id": "fb28242f-8a26-4606-b755-29de5fc45553",
   "metadata": {},
   "outputs": [],
   "source": [
    "def two_point_mutation(ind, p_m):\n",
    "    \"\"\"\n",
    "    Perform two-point mutation on an individual with a given mutation probability.\n",
    "\n",
    "    Args:\n",
    "        ind (list): The individual to undergo mutation.\n",
    "        p_m (float): The probability of mutation for each gene in the individual.\n",
    "\n",
    "    Returns:\n",
    "        list: The mutated individual.\n",
    "    \"\"\"\n",
    "    two_point_mutation.abbv = 'tpm'\n",
    "\n",
    "    size = len(ind)\n",
    "    off = ind.copy()\n",
    "\n",
    "    # Iterating over the individual positions\n",
    "    for i in range(1, size - 5):\n",
    "        if random.random() < p_m:\n",
    "            # Selecting one subset of length two from our index\n",
    "            seq1 = ind[i:i + 2]\n",
    "            j = random.randint(i + 2, size - 3)\n",
    "            seq2 = ind[j:j + 2]  # Subsequence 'b' to be swapped\n",
    "\n",
    "            off[i:i + 2], off[j:j + 2] = off[j:j + 2], off[i:i + 2]\n",
    "\n",
    "    return off"
   ]
  },
  {
   "cell_type": "code",
   "execution_count": 14,
   "id": "19ef345f-7da3-4ae8-a6f3-96467b16df2d",
   "metadata": {},
   "outputs": [
    {
     "data": {
      "text/plain": [
       "[0, 7, 6, 9, 5, 3, 8, 2, 4, 1, 0]"
      ]
     },
     "execution_count": 14,
     "metadata": {},
     "output_type": "execute_result"
    }
   ],
   "source": [
    "two_point_mutation([0, 7, 6, 3, 4, 2, 5, 9, 8, 1, 0], 0.5)"
   ]
  },
  {
   "cell_type": "code",
   "execution_count": null,
   "id": "98e94333-74cd-4575-affe-8812aa1684f0",
   "metadata": {},
   "outputs": [],
   "source": []
  },
  {
   "cell_type": "code",
   "execution_count": null,
   "id": "6f096681-39de-4c5e-9e28-eb2d132258f7",
   "metadata": {},
   "outputs": [],
   "source": []
  }
 ],
 "metadata": {
  "kernelspec": {
   "display_name": "Python 3 (ipykernel)",
   "language": "python",
   "name": "python3"
  },
  "language_info": {
   "codemirror_mode": {
    "name": "ipython",
    "version": 3
   },
   "file_extension": ".py",
   "mimetype": "text/x-python",
   "name": "python",
   "nbconvert_exporter": "python",
   "pygments_lexer": "ipython3",
   "version": "3.11.7"
  }
 },
 "nbformat": 4,
 "nbformat_minor": 5
}
