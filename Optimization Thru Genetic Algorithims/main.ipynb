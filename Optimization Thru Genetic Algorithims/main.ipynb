{
 "cells": [
  {
   "cell_type": "code",
   "execution_count": 5,
   "id": "23236e74-6d74-4a3a-8037-908db38d9a12",
   "metadata": {},
   "outputs": [],
   "source": [
    "import numpy as np\n",
    "import pandas as pd\n",
    "import matplotlib.pyplot as plt\n",
    "from tqdm import trange\n",
    "import warnings\n",
    "#!pip install scikit-optimize\n",
    "from skopt import gp_minimize\n",
    "from skopt.space import Categorical, Real, Integer\n",
    "\n",
    "%run \"C:\\Users\\tomas/Downloads\\OA_project_20221894\\base\\dataset_generation.ipynb\"\n",
    "%run \"C:\\Users\\tomas\\Downloads\\OA_project_20221894\\base\\individual.ipynb\"\n",
    "%run \"C:\\Users\\tomas\\Downloads\\OA_project_20221894\\base\\population.ipynb\"\n",
    "%run \"C:\\Users\\tomas\\Downloads\\OA_project_20221894\\operators_utils\\selection_algorithms.ipynb\"\n",
    "%run \"C:\\Users\\tomas\\Downloads\\OA_project_20221894\\operators_utils\\crossovers.ipynb\"\n",
    "%run \"C:\\Users\\tomas\\Downloads\\OA_project_20221894\\operators_utils\\mutators.ipynb\"\n",
    "%run \"C:\\Users\\tomas\\Downloads\\OA_project_20221894\\operators_utils\\utils.ipynb\"\n",
    "%run \"C:\\Users\\tomas\\Downloads\\OA_project_20221894\\algorithm\\algorithm.ipynb\""
   ]
  },
  {
   "cell_type": "code",
   "execution_count": 10,
   "id": "62dce4f5-eb57-465d-b63d-7943f466aad8",
   "metadata": {},
   "outputs": [],
   "source": [
    "result = GA(matrix= # input data here,\n",
    "            initializer=create_population,\n",
    "            evaluator=evaluate_pop,\n",
    "            selector=tournament_selection(10),\n",
    "            crossover=two_point_xover,\n",
    "            mutator=swap_mutation,\n",
    "            elite_func=get_n_elites(3),\n",
    "            pop_size=25,\n",
    "            n_gens=500,\n",
    "            p_xo=0.8,\n",
    "            p_m=0.2,\n",
    "            elitism=False)"
   ]
  }
 ],
 "metadata": {
  "kernelspec": {
   "display_name": "Python 3 (ipykernel)",
   "language": "python",
   "name": "python3"
  },
  "language_info": {
   "codemirror_mode": {
    "name": "ipython",
    "version": 3
   },
   "file_extension": ".py",
   "mimetype": "text/x-python",
   "name": "python",
   "nbconvert_exporter": "python",
   "pygments_lexer": "ipython3",
   "version": "3.11.7"
  }
 },
 "nbformat": 4,
 "nbformat_minor": 5
}
